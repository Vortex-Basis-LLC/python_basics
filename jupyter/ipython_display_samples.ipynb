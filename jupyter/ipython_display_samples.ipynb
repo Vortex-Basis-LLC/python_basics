{
 "cells": [
  {
   "cell_type": "code",
   "execution_count": 11,
   "id": "7aa9787c-13dd-4930-8e50-1598e1e0124a",
   "metadata": {},
   "outputs": [],
   "source": [
    "from IPython.display import Markdown, display, update_display"
   ]
  },
  {
   "cell_type": "code",
   "execution_count": 2,
   "id": "3f67b857-ee03-4e9b-9433-0009a85a80c6",
   "metadata": {},
   "outputs": [],
   "source": [
    "markdown_example = \"\"\"# MyHeader\n",
    "Some intro text\n",
    "\n",
    "## Some Sub-Header\n",
    "- List item 1\n",
    "- List item 2\n",
    "- List item 3\n",
    "\"\"\""
   ]
  },
  {
   "cell_type": "code",
   "execution_count": 6,
   "id": "06ff61de-0822-44b7-89e7-30cf96b904a4",
   "metadata": {},
   "outputs": [
    {
     "data": {
      "text/markdown": [
       "# MyHeader\n",
       "Some intro text\n",
       "\n",
       "## Some Sub-Header\n",
       "- List item 1\n",
       "- List item 2\n",
       "- List item 3\n"
      ],
      "text/plain": [
       "<IPython.core.display.Markdown object>"
      ]
     },
     "metadata": {},
     "output_type": "display_data"
    }
   ],
   "source": [
    "# Show how to display markdown\n",
    "\n",
    "display(Markdown(markdown_example))"
   ]
  },
  {
   "cell_type": "code",
   "execution_count": 17,
   "id": "46d5b38e-8681-40bb-a626-f7b300ffc989",
   "metadata": {},
   "outputs": [
    {
     "data": {
      "text/markdown": [
       "# Streaming List\n",
       "- Item 0\n",
       "- Item 1\n",
       "- Item 2\n",
       "- Item 3\n",
       "- Item 4"
      ],
      "text/plain": [
       "<IPython.core.display.Markdown object>"
      ]
     },
     "metadata": {},
     "output_type": "display_data"
    }
   ],
   "source": [
    "# Show how to update the display when output should update over time.\n",
    "import time\n",
    "\n",
    "dynamic_text = \"# Streaming List\"\n",
    "display_handle = display(Markdown(dynamic_text), display_id=True)\n",
    "\n",
    "for i in range(5):\n",
    "    dynamic_text += f\"\\n- Item {i}\"\n",
    "    update_display(Markdown(dynamic_text), display_id=display_handle.display_id)\n",
    "    time.sleep(1)"
   ]
  },
  {
   "cell_type": "code",
   "execution_count": null,
   "id": "b1c01419-2fb1-4bb4-b0f8-1bd64a2e4cb2",
   "metadata": {},
   "outputs": [],
   "source": []
  }
 ],
 "metadata": {
  "kernelspec": {
   "display_name": "Python 3 (ipykernel)",
   "language": "python",
   "name": "python3"
  },
  "language_info": {
   "codemirror_mode": {
    "name": "ipython",
    "version": 3
   },
   "file_extension": ".py",
   "mimetype": "text/x-python",
   "name": "python",
   "nbconvert_exporter": "python",
   "pygments_lexer": "ipython3",
   "version": "3.13.1"
  }
 },
 "nbformat": 4,
 "nbformat_minor": 5
}
