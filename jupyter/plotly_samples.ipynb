{
 "cells": [
  {
   "cell_type": "markdown",
   "id": "c1739d5a-4375-4280-b6ac-1f16bd1a449d",
   "metadata": {},
   "source": [
    "# plotly\n",
    "\n",
    "Charting library for Python\n",
    "\n",
    "- [Scatter Plots](https://plotly.com/python/line-and-scatter/)"
   ]
  },
  {
   "cell_type": "code",
   "execution_count": 4,
   "id": "0a6b0540-e1d4-4c1b-8d31-d05b0573a756",
   "metadata": {},
   "outputs": [],
   "source": [
    "# The following workaround seems to currently be needed for Jupyter Lab usage with plotly.\n",
    "import plotly.io as pio\n",
    "pio.renderers.default = 'iframe'"
   ]
  },
  {
   "cell_type": "code",
   "execution_count": 6,
   "id": "50374c47-a61b-4c31-a688-d06ef612f5de",
   "metadata": {},
   "outputs": [
    {
     "data": {
      "text/html": [
       "<iframe\n",
       "    scrolling=\"no\"\n",
       "    width=\"100%\"\n",
       "    height=\"545px\"\n",
       "    src=\"iframe_figures/figure_6.html\"\n",
       "    frameborder=\"0\"\n",
       "    allowfullscreen\n",
       "></iframe>\n"
      ]
     },
     "metadata": {},
     "output_type": "display_data"
    }
   ],
   "source": [
    "import plotly.express as px\n",
    "chart = px.scatter(x=[0, 1, 2, 3, 4], y=[2, 3, 5, 8, 13])\n",
    "chart.show()"
   ]
  },
  {
   "cell_type": "code",
   "execution_count": null,
   "id": "23c264b9-bac4-4ec4-8ae5-6e16ad4a1ff4",
   "metadata": {},
   "outputs": [],
   "source": []
  }
 ],
 "metadata": {
  "kernelspec": {
   "display_name": "Python 3 (ipykernel)",
   "language": "python",
   "name": "python3"
  },
  "language_info": {
   "codemirror_mode": {
    "name": "ipython",
    "version": 3
   },
   "file_extension": ".py",
   "mimetype": "text/x-python",
   "name": "python",
   "nbconvert_exporter": "python",
   "pygments_lexer": "ipython3",
   "version": "3.13.1"
  }
 },
 "nbformat": 4,
 "nbformat_minor": 5
}
