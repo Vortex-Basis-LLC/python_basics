{
 "cells": [
  {
   "cell_type": "markdown",
   "id": "805c62de-a406-46a9-a2cb-abeaa40bc63b",
   "metadata": {},
   "source": [
    "# ipywidgets\n",
    "\n",
    "Show custom widgets within Python notebooks.\n",
    "\n",
    "- [Widget List](https://ipywidgets.readthedocs.io/en/stable/examples/Widget%20List.html)"
   ]
  },
  {
   "cell_type": "code",
   "execution_count": 2,
   "id": "ba0ef853-0726-4beb-baf4-f5476529f4cd",
   "metadata": {},
   "outputs": [
    {
     "data": {
      "application/vnd.jupyter.widget-view+json": {
       "model_id": "05906906246a43e0b31281186e0b49f0",
       "version_major": 2,
       "version_minor": 0
      },
      "text/plain": [
       "IntSlider(value=5, continuous_update=False, description='My Int:', max=10)"
      ]
     },
     "execution_count": 2,
     "metadata": {},
     "output_type": "execute_result"
    }
   ],
   "source": [
    "import ipywidgets as widgets\n",
    "\n",
    "my_int_slider = widgets.IntSlider(\n",
    "    value=5,\n",
    "    min=0,\n",
    "    max=10,\n",
    "    step=1,\n",
    "    description='My Int:',\n",
    "    disabled=False,\n",
    "    continuous_update=False,\n",
    "    orientation='horizontal',\n",
    "    readout=True,\n",
    "    readout_format='d'\n",
    ")\n",
    "\n",
    "my_int_slider"
   ]
  },
  {
   "cell_type": "code",
   "execution_count": 4,
   "id": "2578c1ba-8555-436a-8539-f17141dd9c78",
   "metadata": {},
   "outputs": [
    {
     "data": {
      "text/plain": [
       "8"
      ]
     },
     "execution_count": 4,
     "metadata": {},
     "output_type": "execute_result"
    }
   ],
   "source": [
    "my_int_slider.value"
   ]
  },
  {
   "cell_type": "code",
   "execution_count": null,
   "id": "3d707970-c74d-4a13-ae66-cccef58fd471",
   "metadata": {},
   "outputs": [],
   "source": []
  }
 ],
 "metadata": {
  "kernelspec": {
   "display_name": "Python 3 (ipykernel)",
   "language": "python",
   "name": "python3"
  },
  "language_info": {
   "codemirror_mode": {
    "name": "ipython",
    "version": 3
   },
   "file_extension": ".py",
   "mimetype": "text/x-python",
   "name": "python",
   "nbconvert_exporter": "python",
   "pygments_lexer": "ipython3",
   "version": "3.13.1"
  }
 },
 "nbformat": 4,
 "nbformat_minor": 5
}
