{
 "cells": [
  {
   "cell_type": "markdown",
   "id": "7ce3f5d4-5d89-4e2a-8dac-676c04320b3c",
   "metadata": {},
   "source": [
    "# Servers\n",
    "\n",
    "The server examples in this folder are not meant to be run from jupyer lab.\n",
    "See the projects in the individual folders.\n",
    "\n",
    "## FastAPI\n",
    "- [FastAPI on GitHub](https://github.com/fastapi/fastapi)\n",
    "- [Gradio Video Processing Sample](https://www.gradio.app/guides/fastapi-app-with-the-gradio-client)\n",
    "  - Shows service that splits singing from background music by calling acapellify"
   ]
  },
  {
   "cell_type": "code",
   "execution_count": null,
   "id": "182132d6-dd05-45a1-b58d-f0d5a4733d72",
   "metadata": {},
   "outputs": [],
   "source": []
  }
 ],
 "metadata": {
  "kernelspec": {
   "display_name": "Python 3 (ipykernel)",
   "language": "python",
   "name": "python3"
  },
  "language_info": {
   "codemirror_mode": {
    "name": "ipython",
    "version": 3
   },
   "file_extension": ".py",
   "mimetype": "text/x-python",
   "name": "python",
   "nbconvert_exporter": "python",
   "pygments_lexer": "ipython3",
   "version": "3.13.1"
  }
 },
 "nbformat": 4,
 "nbformat_minor": 5
}
