{
 "cells": [
  {
   "cell_type": "code",
   "execution_count": 2,
   "id": "869e5229-5f62-496b-92a5-d0b857f60e43",
   "metadata": {},
   "outputs": [],
   "source": [
    "from ollama import chat\n",
    "from pydantic import BaseModel\n",
    "import json\n",
    "\n",
    "model = \"llama3.2\""
   ]
  },
  {
   "cell_type": "code",
   "execution_count": 5,
   "id": "07029c90-a8f0-4262-98f9-09312e8b740b",
   "metadata": {},
   "outputs": [
    {
     "name": "stdout",
     "output_type": "stream",
     "text": [
      "The color of grass can vary depending on several factors, such as the type of grass, soil quality, sunlight exposure, and moisture levels.\n",
      "\n",
      "In general, healthy grass tends to have a greenish hue. This is because chlorophyll, a pigment found in plant cells, absorbs light energy from the sun and uses it to produce glucose through photosynthesis. The reflected light that we see as color is what gives grass its characteristic green color.\n",
      "\n",
      "However, the shade of green can vary depending on the specific type of grass. For example:\n",
      "\n",
      "* Cool-season grasses like Kentucky bluegrass and perennial ryegrass tend to have a darker, more vibrant green color.\n",
      "* Warm-season grasses like Bermudagrass and zoysiagrass tend to have a lighter, more yellowish-green color.\n",
      "* Grass in shaded areas or with poor soil quality may appear more pale or bluish-green.\n",
      "\n",
      "It's also worth noting that the color of grass can change depending on the time of day, season, and weather conditions. For example:\n",
      "\n",
      "* In the morning and evening, when the sun is lower in the sky, grass may take on a more blueish tint.\n",
      "* During periods of drought or stress, grass may turn yellow or brown.\n",
      "* After rainfall, grass may appear greener and more vibrant.\n",
      "\n",
      "Overall, while grass tends to be green, its exact color can vary depending on a range of factors.\n"
     ]
    }
   ],
   "source": [
    "# Sample call to ollama via chat.\n",
    "\n",
    "response = chat(\n",
    "    model=model,\n",
    "    messages=[\n",
    "        {\"role\": \"user\", \"content\": \"What color is grass?\"}\n",
    "    ],\n",
    "    options={'temperature': 0}\n",
    ")\n",
    "\n",
    "response = response.message\n",
    "print(response.content)\n"
   ]
  },
  {
   "cell_type": "code",
   "execution_count": 7,
   "id": "780654dd-58e8-43c8-9ca9-bfdfe6ccefee",
   "metadata": {},
   "outputs": [
    {
     "name": "stdout",
     "output_type": "stream",
     "text": [
      "grasses=[Grass(name='Kentucky Bluegrass', color='#0097A7', geographic_area='North America, Europe', cost_per_square_yard=0.5), Grass(name='Bermuda Grass', color='#C9E4CA', geographic_area='Tropical and subtropical regions around the world', cost_per_square_yard=1.0), Grass(name='Zoysia Grass', color='#8BC34A', geographic_area='Asia, North America', cost_per_square_yard=0.75), Grass(name='Ryegrass', color='#C9E4CA', geographic_area='Temperate regions around the world', cost_per_square_yard=0.5), Grass(name='Bentgrass', color='#0097A7', geographic_area='Cooler climates in North America, Europe', cost_per_square_yard=1.25)]\n"
     ]
    }
   ],
   "source": [
    "# Simple example of calling the completion api with a request for\n",
    "# a structured response.\n",
    "\n",
    "class Grass(BaseModel):\n",
    "    name: str\n",
    "    color: str | None\n",
    "    geographic_area: str | None\n",
    "    cost_per_square_yard: float\n",
    "\n",
    "class GrassList(BaseModel):\n",
    "    grasses: list[Grass]\n",
    "\n",
    "\n",
    "response = chat(\n",
    "    model=model,\n",
    "    format=GrassList.model_json_schema(),\n",
    "    messages=[\n",
    "        {\"role\": \"user\", \"content\": \"Tell me about some of the most popular types of grass for lawns around the world.\"}\n",
    "    ],\n",
    "    options={'temperature': 0}\n",
    ")\n",
    "\n",
    "grass_data = GrassList.model_validate_json(response.message.content)\n",
    "print(grass_data)\n"
   ]
  },
  {
   "cell_type": "code",
   "execution_count": null,
   "id": "6defe53d-b4b9-4397-9e26-22f91c13b855",
   "metadata": {},
   "outputs": [],
   "source": []
  }
 ],
 "metadata": {
  "kernelspec": {
   "display_name": "Python 3 (ipykernel)",
   "language": "python",
   "name": "python3"
  },
  "language_info": {
   "codemirror_mode": {
    "name": "ipython",
    "version": 3
   },
   "file_extension": ".py",
   "mimetype": "text/x-python",
   "name": "python",
   "nbconvert_exporter": "python",
   "pygments_lexer": "ipython3",
   "version": "3.13.1"
  }
 },
 "nbformat": 4,
 "nbformat_minor": 5
}
