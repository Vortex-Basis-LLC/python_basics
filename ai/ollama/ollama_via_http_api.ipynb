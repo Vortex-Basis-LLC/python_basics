{
 "cells": [
  {
   "cell_type": "code",
   "execution_count": 6,
   "id": "042010cc-4fde-459b-9cc7-d10418d11d19",
   "metadata": {},
   "outputs": [
    {
     "name": "stdout",
     "output_type": "stream",
     "text": [
      "{'model': 'llama3.2', 'created_at': '2025-01-21T23:05:36.610514Z', 'message': {'role': 'assistant', 'content': 'Grass can appear in a variety of colors depending on the type of grass, growing conditions, and time of year. Here are some common colors associated with different types of grass:\\n\\n1. Cool-season grasses (like Kentucky bluegrass, perennial ryegrass, and tall fescue):\\n\\t* Green\\n2. Warm-season grasses (like Bermudagrass, zoysiagrass, and buffalograss):\\n\\t* Light brown or tan\\n3. St. Augustinegrass:\\n\\t* Dark green with a reddish tint\\n4. Ryegrass:\\n\\t* Deep green during the growing season, then turns golden brown in the fall\\n5. Bentgrass:\\n\\t* Bright green year-round, but can turn yellowish or pale green in wet conditions\\n\\nKeep in mind that grass color can also be affected by factors like soil quality, sunlight, and watering practices.\\n\\nIn general, healthy, well-maintained grass tends to appear a vibrant green color.'}, 'done_reason': 'stop', 'done': True, 'total_duration': 2256922209, 'load_duration': 570081375, 'prompt_eval_count': 30, 'prompt_eval_duration': 151000000, 'eval_count': 199, 'eval_duration': 1534000000}\n"
     ]
    }
   ],
   "source": [
    "import requests\n",
    "import json\n",
    "from pydantic import BaseModel\n",
    "\n",
    "chat_endpoint = \"http://localhost:11434/api/chat\"\n",
    "model = \"llama3.2\"\n",
    "\n",
    "request_headers = {\n",
    "    \"Content-Type\": \"application/json\"\n",
    "}\n",
    "\n",
    "request_data = {\n",
    "    \"model\": model,\n",
    "    \"stream\": False,\n",
    "    \"messages\": [{\"role\": \"user\", \"content\": \"What color is grass?\"}],\n",
    "}\n",
    "\n",
    "response = requests.post(chat_endpoint, headers=request_headers, data=json.dumps(request_data))\n",
    "print(response.json())"
   ]
  },
  {
   "cell_type": "code",
   "execution_count": 11,
   "id": "089e876f-9cf0-44aa-a34b-132585ebdae8",
   "metadata": {},
   "outputs": [
    {
     "data": {
      "text/plain": [
       "{'$defs': {'Grass': {'properties': {'name': {'title': 'Name',\n",
       "     'type': 'string'},\n",
       "    'color': {'anyOf': [{'type': 'string'}, {'type': 'null'}],\n",
       "     'title': 'Color'},\n",
       "    'geographic_area': {'anyOf': [{'type': 'string'}, {'type': 'null'}],\n",
       "     'title': 'Geographic Area'},\n",
       "    'cost_per_square_yard': {'title': 'Cost Per Square Yard',\n",
       "     'type': 'number'}},\n",
       "   'required': ['name', 'color', 'geographic_area', 'cost_per_square_yard'],\n",
       "   'title': 'Grass',\n",
       "   'type': 'object'}},\n",
       " 'properties': {'grasses': {'items': {'$ref': '#/$defs/Grass'},\n",
       "   'title': 'Grasses',\n",
       "   'type': 'array'}},\n",
       " 'required': ['grasses'],\n",
       " 'title': 'GrassList',\n",
       " 'type': 'object'}"
      ]
     },
     "execution_count": 11,
     "metadata": {},
     "output_type": "execute_result"
    }
   ],
   "source": [
    "# Example with structured format request.\n",
    "\n",
    "class Grass(BaseModel):\n",
    "    name: str\n",
    "    color: str | None\n",
    "    geographic_area: str | None\n",
    "    cost_per_square_yard: float\n",
    "\n",
    "class GrassList(BaseModel):\n",
    "    grasses: list[Grass]\n",
    "\n",
    "model_json_schema = GrassList.model_json_schema()\n",
    "model_json_schema"
   ]
  },
  {
   "cell_type": "code",
   "execution_count": 14,
   "id": "bcdec3de-e506-4051-951c-f4f327818204",
   "metadata": {},
   "outputs": [
    {
     "name": "stdout",
     "output_type": "stream",
     "text": [
      "{'model': 'llama3.2', 'created_at': '2025-01-21T23:14:52.445055Z', 'message': {'role': 'assistant', 'content': '{ \"grasses\" : [ { \"name\": \"Kentucky Bluegrass\", \"color\": \"#009900\", \"geographic_area\": \"Northern hemisphere, temperate climate\" , \"cost_per_square_yard\": 0.25}, { \"name\": \"Bermuda Grass\", \"color\": \"#6495ED\", \"geographic_area\": \"Tropical and subtropical regions\" , \"cost_per_square_yard\": 0.30}, { \"name\": \"Zoysia Grass\", \"color\": \"#964B00\", \"geographic_area\": \"Southern hemisphere, temperate climate\" , \"cost_per_square_yard\": 0.40} ] }'}, 'done_reason': 'stop', 'done': True, 'total_duration': 1483024667, 'load_duration': 28746292, 'prompt_eval_count': 43, 'prompt_eval_duration': 98000000, 'eval_count': 150, 'eval_duration': 1354000000}\n"
     ]
    }
   ],
   "source": [
    "request_data = {\n",
    "    \"model\": model,\n",
    "    \"stream\": False,\n",
    "    \"format\": model_json_schema,\n",
    "    \"messages\": [{\"role\": \"user\", \"content\": \"Tell me about some of the most popular types of grass for lawns around the world.\"}],\n",
    "}\n",
    "\n",
    "response = requests.post(chat_endpoint, headers=request_headers, data=json.dumps(request_data))\n",
    "print(response.json())"
   ]
  },
  {
   "cell_type": "code",
   "execution_count": null,
   "id": "41c27b04-a151-4b6b-9776-b43cbc9a0cfe",
   "metadata": {},
   "outputs": [],
   "source": []
  }
 ],
 "metadata": {
  "kernelspec": {
   "display_name": "Python 3 (ipykernel)",
   "language": "python",
   "name": "python3"
  },
  "language_info": {
   "codemirror_mode": {
    "name": "ipython",
    "version": 3
   },
   "file_extension": ".py",
   "mimetype": "text/x-python",
   "name": "python",
   "nbconvert_exporter": "python",
   "pygments_lexer": "ipython3",
   "version": "3.13.1"
  }
 },
 "nbformat": 4,
 "nbformat_minor": 5
}
