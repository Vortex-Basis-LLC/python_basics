{
 "cells": [
  {
   "cell_type": "code",
   "execution_count": 22,
   "id": "07cb11e4-80c3-497c-a1e7-468920040124",
   "metadata": {},
   "outputs": [],
   "source": [
    "from openai import OpenAI\n",
    "import openai\n",
    "from pydantic import BaseModel\n",
    "import json\n",
    "\n",
    "client = OpenAI(base_url=\"http://localhost:11434/v1\", api_key=\"ollama\")\n",
    "model = \"llama3.2\""
   ]
  },
  {
   "cell_type": "code",
   "execution_count": 12,
   "id": "759e1a6f-47a0-43b4-a491-6151df14f114",
   "metadata": {},
   "outputs": [
    {
     "name": "stdout",
     "output_type": "stream",
     "text": [
      "The color of grass can vary depending on several factors, such as the type of grass, soil quality, sunlight exposure, and moisture levels.\n",
      "\n",
      "In general, healthy grass tends to have a greenish hue. This is because chlorophyll, a pigment found in plant cells, absorbs light energy from the sun and uses it to produce glucose through photosynthesis. The reflected light that we see as color is what gives grass its characteristic green color.\n",
      "\n",
      "However, the shade of green can vary depending on the specific type of grass. For example:\n",
      "\n",
      "* Cool-season grasses like Kentucky bluegrass and perennial ryegrass tend to have a darker, more vibrant green color.\n",
      "* Warm-season grasses like Bermudagrass and zoysiagrass tend to have a lighter, more yellowish-green color.\n",
      "* Grass in shaded areas or with poor soil quality may appear more pale or bluish-green.\n",
      "\n",
      "It's also worth noting that the color of grass can change depending on the time of day, season, and weather conditions. For example:\n",
      "\n",
      "* In the morning and evening, when the sun is lower in the sky, grass may take on a more blueish tint.\n",
      "* During periods of drought or stress, grass may turn yellow or brown.\n",
      "* After rainfall, grass may appear greener and more vibrant.\n",
      "\n",
      "Overall, while grass tends to be green, its exact color can vary depending on a range of factors.\n"
     ]
    }
   ],
   "source": [
    "# Simple example of calling the completion api.\n",
    "\n",
    "try:\n",
    "    completion = client.beta.chat.completions.parse(\n",
    "        temperature=0,\n",
    "        model=model,\n",
    "        messages=[\n",
    "            {\"role\": \"user\", \"content\": \"What color is grass?\"}\n",
    "        ]\n",
    "    )\n",
    "\n",
    "    response = completion.choices[0].message\n",
    "    print(response.content)\n",
    "except Exception as e:\n",
    "    if type(e) == openai.LengthFinishReasonError:\n",
    "        print(\"Token limit exceeded: \", e)\n",
    "        pass\n",
    "    else:\n",
    "        print(e)\n",
    "        pass"
   ]
  },
  {
   "cell_type": "code",
   "execution_count": 24,
   "id": "b6c55ce8-9844-4289-a61d-5d0ae6d78b47",
   "metadata": {},
   "outputs": [
    {
     "name": "stdout",
     "output_type": "stream",
     "text": [
      "{\n",
      "    \"grasses\": [\n",
      "        {\n",
      "            \"name\": \"Kentucky Bluegrass\",\n",
      "            \"color\": \"#0097A7\",\n",
      "            \"geographic_area\": \"North America, Europe\",\n",
      "            \"cost_per_square_yard\": 0.5\n",
      "        },\n",
      "        {\n",
      "            \"name\": \"Bermuda Grass\",\n",
      "            \"color\": \"#C9E4CA\",\n",
      "            \"geographic_area\": \"Tropical and subtropical regions around the world\",\n",
      "            \"cost_per_square_yard\": 1.0\n",
      "        },\n",
      "        {\n",
      "            \"name\": \"Zoysia Grass\",\n",
      "            \"color\": \"#8BC34A\",\n",
      "            \"geographic_area\": \"Asia, North America\",\n",
      "            \"cost_per_square_yard\": 0.75\n",
      "        },\n",
      "        {\n",
      "            \"name\": \"Ryegrass\",\n",
      "            \"color\": \"#C9E4CA\",\n",
      "            \"geographic_area\": \"Temperate regions around the world\",\n",
      "            \"cost_per_square_yard\": 0.5\n",
      "        },\n",
      "        {\n",
      "            \"name\": \"Bentgrass\",\n",
      "            \"color\": \"#0097A7\",\n",
      "            \"geographic_area\": \"Cooler climates in North America, Europe\",\n",
      "            \"cost_per_square_yard\": 1.25\n",
      "        }\n",
      "    ]\n",
      "}\n"
     ]
    }
   ],
   "source": [
    "# Simple example of calling the completion api with a request for\n",
    "# a structured response.\n",
    "\n",
    "class Grass(BaseModel):\n",
    "    name: str\n",
    "    color: str | None\n",
    "    geographic_area: str | None\n",
    "    cost_per_square_yard: float\n",
    "\n",
    "class GrassList(BaseModel):\n",
    "    grasses: list[Grass]\n",
    "\n",
    "try:\n",
    "    completion = client.beta.chat.completions.parse(\n",
    "        temperature=0,\n",
    "        model=model,\n",
    "        messages=[\n",
    "            {\"role\": \"user\", \"content\": \"Tell me about some of the most popular types of grass for lawns around the world.\"}\n",
    "        ],\n",
    "        response_format=GrassList\n",
    "    )\n",
    "\n",
    "    response = completion.choices[0].message\n",
    "    response_json = response.content\n",
    "    response_json_indented = json.dumps(json.loads(response_json), indent=4)\n",
    "\n",
    "    # Alternatively, use the following to deserialize json into GrassList.\n",
    "    # grass_data = GrassList.model_validate_json(response_json)\n",
    "    \n",
    "    print(response_json_indented)\n",
    "except Exception as e:\n",
    "    if type(e) == openai.LengthFinishReasonError:\n",
    "        print(\"Token limit exceeded: \", e)\n",
    "        pass\n",
    "    else:\n",
    "        print(e)\n",
    "        pass"
   ]
  },
  {
   "cell_type": "code",
   "execution_count": null,
   "id": "3a9b2a2b-7e38-485b-a75a-502d6449fa49",
   "metadata": {},
   "outputs": [],
   "source": []
  }
 ],
 "metadata": {
  "kernelspec": {
   "display_name": "Python 3 (ipykernel)",
   "language": "python",
   "name": "python3"
  },
  "language_info": {
   "codemirror_mode": {
    "name": "ipython",
    "version": 3
   },
   "file_extension": ".py",
   "mimetype": "text/x-python",
   "name": "python",
   "nbconvert_exporter": "python",
   "pygments_lexer": "ipython3",
   "version": "3.13.1"
  }
 },
 "nbformat": 4,
 "nbformat_minor": 5
}
