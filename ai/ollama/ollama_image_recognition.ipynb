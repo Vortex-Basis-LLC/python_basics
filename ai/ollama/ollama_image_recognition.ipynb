{
 "cells": [
  {
   "cell_type": "code",
   "execution_count": 48,
   "id": "fc5c4f43-8d3b-411e-bd33-a3cd886d7b82",
   "metadata": {},
   "outputs": [],
   "source": [
    "from ollama import chat\n",
    "from pydantic import BaseModel\n",
    "import json\n",
    "from typing import Literal, List, Optional\n",
    "\n",
    "model = \"llama3.2-vision\""
   ]
  },
  {
   "cell_type": "code",
   "execution_count": 9,
   "id": "b01975ef-ae7d-4f6c-8b02-497a5bab4de1",
   "metadata": {},
   "outputs": [],
   "source": [
    "import base64\n",
    "\n",
    "def get_file_as_base64(file_path: str) -> str:\n",
    "    with open(file_path, 'rb') as file:\n",
    "        binary_data = file.read()\n",
    "        base64_data = base64.b64encode(binary_data)\n",
    "        return base64_data.decode('utf-8')"
   ]
  },
  {
   "cell_type": "code",
   "execution_count": 47,
   "id": "ac9587fd-3594-4001-814b-035edb448fd5",
   "metadata": {},
   "outputs": [],
   "source": [
    "img_base64 = get_file_as_base64(\"../../assets/images/bird_in_flight.jpg\")"
   ]
  },
  {
   "cell_type": "code",
   "execution_count": 18,
   "id": "db2b8e06-cec1-4bc4-ba44-d6e2d9e97787",
   "metadata": {},
   "outputs": [
    {
     "name": "stdout",
     "output_type": "stream",
     "text": [
      "This photograph captures a bird in mid-flight, its wings outstretched as it soars through the air.\n",
      "\n",
      "The bird's plumage is predominantly dark gray, with subtle hints of lighter gray on its head and tail feathers. Its beak appears to be black or dark brown, adding a striking contrast to its overall appearance. The bird's posture conveys a sense of effortless flight, with its wings spread wide and its body angled slightly downward.\n",
      "\n",
      "The background of the image is a soft, muted blue-gray hue, which provides a subtle yet effective backdrop for the bird's dynamic pose. Overall, this photograph presents a captivating snapshot of a bird in motion, showcasing its agility and beauty as it glides through the air.\n"
     ]
    }
   ],
   "source": [
    "# Sample call to ollama via chat to ask about image.\n",
    "\n",
    "response = chat(\n",
    "    model=model,\n",
    "    messages=[\n",
    "        {\n",
    "            \"role\": \"user\", \n",
    "            \"content\": \"Describe this image.\",\n",
    "            \"images\": [ img_base64 ]\n",
    "        }\n",
    "    ],\n",
    "    options={'temperature': 0}\n",
    ")\n",
    "\n",
    "response = response.message\n",
    "print(response.content)"
   ]
  },
  {
   "cell_type": "code",
   "execution_count": 42,
   "id": "65afbb31-e874-4f12-86b7-1056a1c50550",
   "metadata": {},
   "outputs": [],
   "source": [
    "# Structured output with image analysis\n",
    "# See Example: https://ollama.com/blog/structured-outputs\n",
    "\n",
    "class ImageObject(BaseModel):\n",
    "  name: str\n",
    "  confidence: float\n",
    "  attributes: List[str] \n",
    "\n",
    "class ImageInfo(BaseModel):\n",
    "  summary: str\n",
    "  image_type: Literal['Photo', 'Painting', 'Digital', '3D_Render', 'Unknown']\n",
    "  image_style: Literal['Realistic', 'Impressionist', 'Abstract', 'PixelArt', 'Other']\n",
    "  objects: List[ImageObject]\n",
    "  scene: str\n",
    "  colors: List[str]\n",
    "  time_of_day: Literal['Morning', 'Afternoon', 'Evening', 'Night']\n",
    "  setting: Literal['Indoor', 'Outdoor', 'Unknown']\n",
    "  text_content: Optional[str] = None"
   ]
  },
  {
   "cell_type": "code",
   "execution_count": 49,
   "id": "eb099fa9-6103-4050-a38e-062c0b3e4fa4",
   "metadata": {},
   "outputs": [
    {
     "name": "stdout",
     "output_type": "stream",
     "text": [
      "summary='A bird in flight against a gray sky.' image_type='Photo' image_style='Realistic' objects=[ImageObject(name='Bird', confidence=1.0, attributes=['Gray', 'Wings spread']), ImageObject(name='Sky', confidence=1.0, attributes=['Gray'])] scene='Outdoor' colors=['Gray'] time_of_day='Morning' setting='Outdoor' text_content=None\n"
     ]
    }
   ],
   "source": [
    "prompt = \"\"\"Examine the image, give me a summary, and details\n",
    "about each object in the image. Include time of day, key colors,\n",
    "the setting, any text context, and what type of image it is\n",
    "(photo, painting, digital, 3D render, ...) and what style it is in (realistic, impressionist, pixel art, ...).\n",
    "\"\"\"\n",
    "\n",
    "response = chat(\n",
    "    model=model,\n",
    "    format=ImageInfo.model_json_schema(),\n",
    "    messages=[\n",
    "        {\n",
    "            \"role\": \"user\", \n",
    "            \"content\": prompt,\n",
    "            \"images\": [img_base64]\n",
    "        }\n",
    "    ],\n",
    "    options={'temperature': 0}\n",
    ")\n",
    "\n",
    "image_data = ImageInfo.model_validate_json(response.message.content)\n",
    "print(image_data)"
   ]
  },
  {
   "cell_type": "code",
   "execution_count": null,
   "id": "a98e2d23-0d45-49b7-a8a8-713c4b37ad29",
   "metadata": {},
   "outputs": [],
   "source": []
  }
 ],
 "metadata": {
  "kernelspec": {
   "display_name": "Python 3 (ipykernel)",
   "language": "python",
   "name": "python3"
  },
  "language_info": {
   "codemirror_mode": {
    "name": "ipython",
    "version": 3
   },
   "file_extension": ".py",
   "mimetype": "text/x-python",
   "name": "python",
   "nbconvert_exporter": "python",
   "pygments_lexer": "ipython3",
   "version": "3.13.1"
  }
 },
 "nbformat": 4,
 "nbformat_minor": 5
}
