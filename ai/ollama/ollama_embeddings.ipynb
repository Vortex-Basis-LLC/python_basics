{
 "cells": [
  {
   "cell_type": "markdown",
   "id": "c9e22120-88a4-44fc-84e7-2b2cf287bd7a",
   "metadata": {},
   "source": [
    "# Embeddings\n",
    "- [Ollama Embeddings](https://ollama.com/blog/embedding-models)"
   ]
  },
  {
   "cell_type": "code",
   "execution_count": 10,
   "id": "eaa8ebf8-35dd-4ba7-a2db-03f8a8c35689",
   "metadata": {},
   "outputs": [],
   "source": [
    "import ollama\n",
    "from langchain.embeddings import OllamaEmbeddings\n",
    "\n",
    "# Ensure ollama has nomic-embed-text model\n",
    "# ollama pull nomic-embed-text\n",
    "\n",
    "sample_text = \"Is grass green?\"\n",
    "embedding_model = \"nomic-embed-text\""
   ]
  },
  {
   "cell_type": "code",
   "execution_count": 20,
   "id": "a73efdaa-88cf-4a06-926d-87d413b3c432",
   "metadata": {},
   "outputs": [
    {
     "name": "stdout",
     "output_type": "stream",
     "text": [
      "Embedding Vector Length (via ollama api): 768\n"
     ]
    }
   ],
   "source": [
    "# Get vector representation using ollama api\n",
    "ollama_embed_result = ollama.embed(\n",
    "    model=embedding_model,\n",
    "    input=sample_text\n",
    ")\n",
    "\n",
    "emb_vec_via_ollama = ollama_embed_result.embeddings[0]\n",
    "\n",
    "print(\"Embedding Vector Length (via ollama api):\", len(emb_vec_via_ollama))"
   ]
  },
  {
   "cell_type": "code",
   "execution_count": 19,
   "id": "0b09ed66-4ed3-465c-835d-c67d2ef08bec",
   "metadata": {},
   "outputs": [
    {
     "name": "stdout",
     "output_type": "stream",
     "text": [
      "Embedding Vector Length (via langchain's ollama wrapper): 768\n"
     ]
    }
   ],
   "source": [
    "# Get the vector representation of input text via langchain wrapper for ollama.\n",
    "\n",
    "embeddings = OllamaEmbeddings(model=embedding_model)\n",
    "emb_vec = embeddings.embed_query(sample_text)\n",
    "\n",
    "print(\"Embedding Vector Length (via langchain's ollama wrapper):\", len(emb_vec))"
   ]
  },
  {
   "cell_type": "code",
   "execution_count": null,
   "id": "29344343-b3db-40e3-9f39-ed9ba8b69803",
   "metadata": {},
   "outputs": [],
   "source": []
  }
 ],
 "metadata": {
  "kernelspec": {
   "display_name": "Python 3 (ipykernel)",
   "language": "python",
   "name": "python3"
  },
  "language_info": {
   "codemirror_mode": {
    "name": "ipython",
    "version": 3
   },
   "file_extension": ".py",
   "mimetype": "text/x-python",
   "name": "python",
   "nbconvert_exporter": "python",
   "pygments_lexer": "ipython3",
   "version": "3.13.1"
  }
 },
 "nbformat": 4,
 "nbformat_minor": 5
}
