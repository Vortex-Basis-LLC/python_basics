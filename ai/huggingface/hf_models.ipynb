{
 "cells": [
  {
   "cell_type": "code",
   "execution_count": 1,
   "metadata": {},
   "outputs": [],
   "source": [
    "from dotenv import load_dotenv\n",
    "import os\n",
    "\n",
    "import torch\n",
    "from huggingface_hub import login\n",
    "from transformers import AutoTokenizer, AutoModelForCausalLM, BitsAndBytesConfig"
   ]
  },
  {
   "cell_type": "code",
   "execution_count": 2,
   "metadata": {},
   "outputs": [],
   "source": [
    "load_dotenv(override=True)\n",
    "hf_token = os.getenv(\"HUGGINGFACE_TOKEN\")\n",
    "login(hf_token, add_to_git_credential=True)"
   ]
  },
  {
   "cell_type": "code",
   "execution_count": 3,
   "metadata": {},
   "outputs": [
    {
     "data": {
      "application/vnd.jupyter.widget-view+json": {
       "model_id": "af6cbc7923fc40e1a779a9fc28ba00f2",
       "version_major": 2,
       "version_minor": 0
      },
      "text/plain": [
       "Loading checkpoint shards:   0%|          | 0/4 [00:00<?, ?it/s]"
      ]
     },
     "metadata": {},
     "output_type": "display_data"
    }
   ],
   "source": [
    "model_name = \"Qwen/Qwen2.5-7B-Instruct-1M\"\n",
    "device = 'cuda' if torch.cuda.is_available() else 'cpu'\n",
    "\n",
    "tokenizer = AutoTokenizer.from_pretrained(model_name)\n",
    "model = AutoModelForCausalLM.from_pretrained(model_name).to(device)"
   ]
  },
  {
   "cell_type": "code",
   "execution_count": 4,
   "metadata": {},
   "outputs": [
    {
     "name": "stderr",
     "output_type": "stream",
     "text": [
      "The attention mask is not set and cannot be inferred from input because pad token is same as eos token. As a consequence, you may observe unexpected behavior. Please pass your input's `attention_mask` to obtain reliable results.\n"
     ]
    },
    {
     "name": "stdout",
     "output_type": "stream",
     "text": [
      "Grass might grow 1.5cm per 30 days in some areas, but it can grow up to 2.5cm per day\n"
     ]
    }
   ],
   "source": [
    "# Do a simple completion. \n",
    "input_tokens = tokenizer.encode(\"Grass might grow 1.5cm per \", return_tensors=\"pt\").to(device)\n",
    "outputs = model.generate(input_tokens)\n",
    "output_text = tokenizer.decode(outputs[0])\n",
    "print(output_text)"
   ]
  },
  {
   "cell_type": "code",
   "execution_count": 5,
   "metadata": {},
   "outputs": [
    {
     "name": "stdout",
     "output_type": "stream",
     "text": [
      "prompt: <|im_start|>system\n",
      "You are an expert software developer who likes to answer questions.<|im_end|>\n",
      "<|im_start|>user\n",
      "How do I convert a string to uppercase in Python?<|im_end|>\n",
      "<|im_start|>assistant\n",
      "\n",
      "<|im_start|>system\n",
      "You are an expert software developer who likes to answer questions.<|im_end|>\n",
      "<|im_start|>user\n",
      "How do I convert a string to uppercase in Python?<|im_end|>\n",
      "<|im_start|>assistant\n",
      "In Python, you can convert a string to uppercase using the `upper()` method that is available for string objects. Here's how you can do it:\n",
      "\n",
      "```python\n",
      "# Example string\n",
      "my_string = \"Hello, World!\"\n",
      "\n",
      "# Convert to uppercase\n",
      "uppercase_string = my_string.upper()\n",
      "\n",
      "# Print the result\n",
      "print(uppercase_string)\n",
      "```\n",
      "\n",
      "When you run this code, it will output:\n",
      "\n",
      "```\n",
      "HELLO, WORLD!\n",
      "```\n",
      "\n",
      "The `upper()` method returns a new string with all the characters in uppercase, leaving the original string unchanged.<|im_end|>\n"
     ]
    }
   ],
   "source": [
    "# Do a simple chat exchange. \n",
    "input_messages = [\n",
    "\t{ \"role\": \"system\", \"content\": \"You are an expert software developer who likes to answer questions.\"},\n",
    "\t{ \"role\": \"user\", \"content\": \"How do I convert a string to uppercase in Python?\" }\n",
    "]\n",
    "\n",
    "prompt = tokenizer.apply_chat_template(input_messages, tokenize=False, add_generation_prompt=True)\n",
    "print(\"prompt:\", prompt)\n",
    "\n",
    "input_tokens = tokenizer.encode(prompt, return_tensors=\"pt\").to(device)\n",
    "outputs = model.generate(input_tokens, max_new_tokens=128)\n",
    "output_text = tokenizer.decode(outputs[0])\n",
    "print(output_text)"
   ]
  },
  {
   "cell_type": "code",
   "execution_count": 14,
   "metadata": {},
   "outputs": [
    {
     "name": "stdout",
     "output_type": "stream",
     "text": [
      "Model Memory Footprint: 30,462.5 MB\n",
      "Qwen2ForCausalLM(\n",
      "  (model): Qwen2Model(\n",
      "    (embed_tokens): Embedding(152064, 3584)\n",
      "    (layers): ModuleList(\n",
      "      (0-27): 28 x Qwen2DecoderLayer(\n",
      "        (self_attn): Qwen2Attention(\n",
      "          (q_proj): Linear(in_features=3584, out_features=3584, bias=True)\n",
      "          (k_proj): Linear(in_features=3584, out_features=512, bias=True)\n",
      "          (v_proj): Linear(in_features=3584, out_features=512, bias=True)\n",
      "          (o_proj): Linear(in_features=3584, out_features=3584, bias=False)\n",
      "        )\n",
      "        (mlp): Qwen2MLP(\n",
      "          (gate_proj): Linear(in_features=3584, out_features=18944, bias=False)\n",
      "          (up_proj): Linear(in_features=3584, out_features=18944, bias=False)\n",
      "          (down_proj): Linear(in_features=18944, out_features=3584, bias=False)\n",
      "          (act_fn): SiLU()\n",
      "        )\n",
      "        (input_layernorm): Qwen2RMSNorm((3584,), eps=1e-05)\n",
      "        (post_attention_layernorm): Qwen2RMSNorm((3584,), eps=1e-05)\n",
      "      )\n",
      "    )\n",
      "    (norm): Qwen2RMSNorm((3584,), eps=1e-05)\n",
      "    (rotary_emb): Qwen2RotaryEmbedding()\n",
      "  )\n",
      "  (lm_head): Linear(in_features=3584, out_features=152064, bias=False)\n",
      ")\n"
     ]
    }
   ],
   "source": [
    "# View basic structure of the model.\n",
    "print(\"Model Memory Footprint:\", f\"{(model.get_memory_footprint() / 1_000_000):,.1f} MB\")\n",
    "print(model)"
   ]
  },
  {
   "cell_type": "code",
   "execution_count": null,
   "metadata": {},
   "outputs": [],
   "source": []
  }
 ],
 "metadata": {
  "kernelspec": {
   "display_name": "vbg_basics",
   "language": "python",
   "name": "python3"
  },
  "language_info": {
   "codemirror_mode": {
    "name": "ipython",
    "version": 3
   },
   "file_extension": ".py",
   "mimetype": "text/x-python",
   "name": "python",
   "nbconvert_exporter": "python",
   "pygments_lexer": "ipython3",
   "version": "3.13.1"
  }
 },
 "nbformat": 4,
 "nbformat_minor": 2
}
