{
 "cells": [
  {
   "cell_type": "markdown",
   "metadata": {},
   "source": [
    "Hugging Face Pipelines\n",
    "- [Pipelines Overview](https://huggingface.co/docs/transformers/en/main_classes/pipelines)"
   ]
  },
  {
   "cell_type": "code",
   "execution_count": 2,
   "metadata": {},
   "outputs": [],
   "source": [
    "from dotenv import load_dotenv\n",
    "import os\n",
    "\n",
    "from huggingface_hub import login\n",
    "from transformers import pipeline"
   ]
  },
  {
   "cell_type": "code",
   "execution_count": 3,
   "metadata": {},
   "outputs": [],
   "source": [
    "load_dotenv(override=True)\n",
    "hf_token = os.getenv('HUGGINGFACE_TOKEN')\n",
    "login(hf_token, add_to_git_credential=True)"
   ]
  },
  {
   "cell_type": "code",
   "execution_count": 7,
   "metadata": {},
   "outputs": [
    {
     "name": "stderr",
     "output_type": "stream",
     "text": [
      "No model was supplied, defaulted to distilbert/distilbert-base-uncased-finetuned-sst-2-english and revision 714eb0f (https://huggingface.co/distilbert/distilbert-base-uncased-finetuned-sst-2-english).\n",
      "Using a pipeline without specifying a model name and revision in production is not recommended.\n",
      "Device set to use mps:0\n"
     ]
    },
    {
     "name": "stdout",
     "output_type": "stream",
     "text": [
      "[{'label': 'NEGATIVE', 'score': 0.9996190071105957}]\n",
      "[{'label': 'NEGATIVE', 'score': 0.7469764947891235}]\n",
      "[{'label': 'POSITIVE', 'score': 0.9995574355125427}]\n"
     ]
    }
   ],
   "source": [
    "# Simple text-classification/sentiment analysis (with the default model).\n",
    "# https://huggingface.co/docs/transformers/v4.48.2/en/main_classes/pipelines#transformers.TextClassificationPipeline\n",
    "\n",
    "classifier = pipeline(\"text-classification\")\n",
    "classification = classifier(\"This product left me very underwhelmed.\")\n",
    "print(classification)\n",
    "\n",
    "classification = classifier(\"The restaurant service was friendly, but the food was a tad salty for my tastes.\")\n",
    "print(classification)\n",
    "\n",
    "classification = classifier(\"I'd definitely shop here again!\")\n",
    "print(classification)"
   ]
  },
  {
   "cell_type": "code",
   "execution_count": 8,
   "metadata": {},
   "outputs": [
    {
     "name": "stderr",
     "output_type": "stream",
     "text": [
      "No model was supplied, defaulted to distilbert/distilbert-base-cased-distilled-squad and revision 564e9b5 (https://huggingface.co/distilbert/distilbert-base-cased-distilled-squad).\n",
      "Using a pipeline without specifying a model name and revision in production is not recommended.\n",
      "Device set to use mps:0\n"
     ]
    },
    {
     "name": "stdout",
     "output_type": "stream",
     "text": [
      "{'score': 0.3545078635215759, 'start': 76, 'end': 85, 'answer': 'paint dry'}\n"
     ]
    }
   ],
   "source": [
    "# Just get some answers based on some context (with the default model).\n",
    "# https://huggingface.co/docs/transformers/v4.48.2/en/main_classes/pipelines#transformers.QuestionAnsweringPipeline\n",
    "\n",
    "q_and_a = pipeline(\"question-answering\")\n",
    "the_answer = q_and_a(\n",
    "\tquestion=\"Is it more fun to watch grass grow or to watch paint dry?\", \n",
    "\tcontext=\"95% of respondents reported that they would prefer to watch grass grow than paint dry because they could enjoy the outside air.\")\n",
    "print(the_answer)"
   ]
  },
  {
   "cell_type": "code",
   "execution_count": null,
   "metadata": {},
   "outputs": [],
   "source": []
  }
 ],
 "metadata": {
  "kernelspec": {
   "display_name": "vbg_basics",
   "language": "python",
   "name": "python3"
  },
  "language_info": {
   "codemirror_mode": {
    "name": "ipython",
    "version": 3
   },
   "file_extension": ".py",
   "mimetype": "text/x-python",
   "name": "python",
   "nbconvert_exporter": "python",
   "pygments_lexer": "ipython3",
   "version": "3.13.1"
  }
 },
 "nbformat": 4,
 "nbformat_minor": 2
}
