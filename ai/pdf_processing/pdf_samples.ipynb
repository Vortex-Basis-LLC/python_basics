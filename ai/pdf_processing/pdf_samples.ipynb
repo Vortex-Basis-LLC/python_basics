{
 "cells": [
  {
   "cell_type": "code",
   "execution_count": 10,
   "metadata": {},
   "outputs": [],
   "source": [
    "import pytesseract\n",
    "from pdf2image import convert_from_path"
   ]
  },
  {
   "cell_type": "code",
   "execution_count": 11,
   "metadata": {},
   "outputs": [],
   "source": [
    "pdf_path = \"../../assets/pdfs/SamplePDFWithWords.pdf\"\n",
    "page_images = convert_from_path(pdf_path)"
   ]
  },
  {
   "cell_type": "code",
   "execution_count": null,
   "metadata": {},
   "outputs": [
    {
     "name": "stdout",
     "output_type": "stream",
     "text": [
      "PAGE:\n",
      "Here is a sample document that has words in it. And, here are some more words. And some\n",
      "more.\n",
      "\n",
      "1\n",
      "\n",
      "2\n",
      "\n",
      "20\n",
      "21\n",
      "22\n",
      "23\n",
      "\n",
      "24\n",
      "\n",
      "PAGE:\n",
      "25\n",
      "26\n",
      "\n",
      "27\n",
      "\n",
      "Now, there will be a table.\n",
      "\n",
      "Food Primary Color Category\n",
      "Apple Red Fruit\n",
      "Carrot Orange Vegetable\n",
      "\n",
      "\n"
     ]
    }
   ],
   "source": [
    "# NOTE: This sample seems to miss some of the numbers on the first page.\n",
    "for page_image in page_images:\n",
    "\ttext = pytesseract.image_to_string(page_image)\n",
    "\tprint(\"PAGE:\")\n",
    "\tprint(text)"
   ]
  },
  {
   "cell_type": "code",
   "execution_count": null,
   "metadata": {},
   "outputs": [],
   "source": []
  }
 ],
 "metadata": {
  "kernelspec": {
   "display_name": "vbg_basics",
   "language": "python",
   "name": "python3"
  },
  "language_info": {
   "codemirror_mode": {
    "name": "ipython",
    "version": 3
   },
   "file_extension": ".py",
   "mimetype": "text/x-python",
   "name": "python",
   "nbconvert_exporter": "python",
   "pygments_lexer": "ipython3",
   "version": "3.13.1"
  }
 },
 "nbformat": 4,
 "nbformat_minor": 2
}
