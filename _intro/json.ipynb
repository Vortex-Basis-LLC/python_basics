{
 "cells": [
  {
   "cell_type": "markdown",
   "id": "07dc5a58-c557-4d57-a0cf-b25864dda738",
   "metadata": {},
   "source": [
    "[Python json docs](https://docs.python.org/3/library/json.html)"
   ]
  },
  {
   "cell_type": "code",
   "execution_count": 13,
   "id": "2a25f0fd-2c1f-4dcb-a703-29a8576dba4d",
   "metadata": {},
   "outputs": [],
   "source": [
    "import json\n",
    "import decimal"
   ]
  },
  {
   "cell_type": "code",
   "execution_count": 5,
   "id": "17a4bed9-f19f-48b6-be2f-3dfb30a999e3",
   "metadata": {},
   "outputs": [
    {
     "data": {
      "text/plain": [
       "'{\"name\": \"Bob\", \"age\": 42, \"weight\": 185.32}'"
      ]
     },
     "execution_count": 5,
     "metadata": {},
     "output_type": "execute_result"
    }
   ],
   "source": [
    "d = { 'name': 'Bob', 'age': 42, 'weight': 185.32 }\n",
    "\n",
    "d_json = json.dumps(d)\n",
    "d_json"
   ]
  },
  {
   "cell_type": "code",
   "execution_count": 7,
   "id": "7d895ff4-5dff-4546-beb7-83ca51de3a57",
   "metadata": {},
   "outputs": [
    {
     "data": {
      "text/plain": [
       "{'name': 'Bob', 'age': 42, 'weight': 185.32}"
      ]
     },
     "execution_count": 7,
     "metadata": {},
     "output_type": "execute_result"
    }
   ],
   "source": [
    "deserialized_d = json.loads(d_json)\n",
    "deserialized_d"
   ]
  },
  {
   "cell_type": "code",
   "execution_count": 11,
   "id": "8efe1221-cc46-4659-b29c-0ee706339d10",
   "metadata": {},
   "outputs": [
    {
     "data": {
      "text/plain": [
       "float"
      ]
     },
     "execution_count": 11,
     "metadata": {},
     "output_type": "execute_result"
    }
   ],
   "source": [
    "# By default, floating point numbers are deserialized as float.\n",
    "type(deserialized_d['weight'])"
   ]
  },
  {
   "cell_type": "code",
   "execution_count": 14,
   "id": "53d8e075-eb17-4efd-a81b-d0d709ba03b6",
   "metadata": {},
   "outputs": [
    {
     "data": {
      "text/plain": [
       "decimal.Decimal"
      ]
     },
     "execution_count": 14,
     "metadata": {},
     "output_type": "execute_result"
    }
   ],
   "source": [
    "# But you can customize the JSON deserialization to make floating\n",
    "# point numbers come in as decimal to preserve precision.\n",
    "\n",
    "deserialized_d_decimal = json.loads(d_json, parse_float=decimal.Decimal)\n",
    "type(deserialized_d_decimal['weight'])"
   ]
  },
  {
   "cell_type": "code",
   "execution_count": null,
   "id": "fb3b1248-8769-451e-b6e1-e38d91e01aaa",
   "metadata": {},
   "outputs": [],
   "source": []
  }
 ],
 "metadata": {
  "kernelspec": {
   "display_name": "Python 3 (ipykernel)",
   "language": "python",
   "name": "python3"
  },
  "language_info": {
   "codemirror_mode": {
    "name": "ipython",
    "version": 3
   },
   "file_extension": ".py",
   "mimetype": "text/x-python",
   "name": "python",
   "nbconvert_exporter": "python",
   "pygments_lexer": "ipython3",
   "version": "3.13.1"
  }
 },
 "nbformat": 4,
 "nbformat_minor": 5
}
