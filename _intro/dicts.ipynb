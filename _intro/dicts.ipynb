{
 "cells": [
  {
   "cell_type": "markdown",
   "id": "7b53bf12-e6da-4100-834b-da7fcdecbdd6",
   "metadata": {
    "jupyter": {
     "source_hidden": true
    }
   },
   "source": [
    "# Python Dictionaries\n",
    "\n",
    "## References\n",
    "- [W3 Schools Python Dictionaries](https://www.w3schools.com/python/python_dictionaries.asp)"
   ]
  },
  {
   "cell_type": "code",
   "execution_count": 1,
   "id": "c94f2376-8ad3-48af-b00f-2efed8b2ca0a",
   "metadata": {},
   "outputs": [],
   "source": [
    "d = { 'name': 'Bob', 'age': 42 }"
   ]
  },
  {
   "cell_type": "code",
   "execution_count": 2,
   "id": "a609bcf2-b66a-4c3a-b2c5-c88df23e3b66",
   "metadata": {},
   "outputs": [
    {
     "data": {
      "text/plain": [
       "'Bob'"
      ]
     },
     "execution_count": 2,
     "metadata": {},
     "output_type": "execute_result"
    }
   ],
   "source": [
    "d['name']"
   ]
  },
  {
   "cell_type": "code",
   "execution_count": 6,
   "id": "fd5a86d2-969f-4bec-bd9b-ca45fb13a124",
   "metadata": {},
   "outputs": [
    {
     "name": "stdout",
     "output_type": "stream",
     "text": [
      "name : Bob\n",
      "age : 42\n"
     ]
    }
   ],
   "source": [
    "# Iterate over key-value pairs in the dictionary.\n",
    "for key, value in d.items():\n",
    "    print(key, \":\", value)"
   ]
  },
  {
   "cell_type": "code",
   "execution_count": 9,
   "id": "eeb0de17-cc40-452e-8539-cfcdedac667b",
   "metadata": {},
   "outputs": [
    {
     "data": {
      "text/plain": [
       "True"
      ]
     },
     "execution_count": 9,
     "metadata": {},
     "output_type": "execute_result"
    }
   ],
   "source": [
    "# Check if key exists in the dictionary.\n",
    "'name' in d"
   ]
  },
  {
   "cell_type": "code",
   "execution_count": 18,
   "id": "71a8756e-f99e-414c-ad16-32bfce0cdcf0",
   "metadata": {},
   "outputs": [
    {
     "name": "stdout",
     "output_type": "stream",
     "text": [
      "Exception caught trying to access invalid key.\n"
     ]
    }
   ],
   "source": [
    "# Accessing invalid keys with [] will throw an exception.\n",
    "try:\n",
    "    d['invalid']\n",
    "    print(\"Should not see this.\")\n",
    "except:\n",
    "    print(\"Exception caught trying to access invalid key.\")"
   ]
  },
  {
   "cell_type": "code",
   "execution_count": 15,
   "id": "72900bf0-e21d-4045-855d-27f137c79706",
   "metadata": {},
   "outputs": [
    {
     "data": {
      "text/plain": [
       "True"
      ]
     },
     "execution_count": 15,
     "metadata": {},
     "output_type": "execute_result"
    }
   ],
   "source": [
    "# Try to get invalid key and get None if it is not there.\n",
    "d.get('invalid') == None"
   ]
  },
  {
   "cell_type": "code",
   "execution_count": null,
   "id": "c3e0e695-ed1e-4ae1-86b4-5c2d7ae2a4f4",
   "metadata": {},
   "outputs": [],
   "source": []
  }
 ],
 "metadata": {
  "kernelspec": {
   "display_name": "Python 3 (ipykernel)",
   "language": "python",
   "name": "python3"
  },
  "language_info": {
   "codemirror_mode": {
    "name": "ipython",
    "version": 3
   },
   "file_extension": ".py",
   "mimetype": "text/x-python",
   "name": "python",
   "nbconvert_exporter": "python",
   "pygments_lexer": "ipython3",
   "version": "3.13.1"
  }
 },
 "nbformat": 4,
 "nbformat_minor": 5
}
