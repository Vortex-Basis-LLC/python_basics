{
 "cells": [
  {
   "cell_type": "markdown",
   "id": "2d7407e0-ea94-404c-8b15-b2256665fc2f",
   "metadata": {},
   "source": [
    "# Python Strings\n",
    "\n",
    "## References\n",
    "- [W3 Schools Python Strings](https://www.w3schools.com/python/python_strings.asp)\n",
    "- [W3 Schools String Methods](https://www.w3schools.com/python/python_strings_methods.asp)"
   ]
  },
  {
   "cell_type": "code",
   "execution_count": 27,
   "id": "0bdbac58-9277-452e-8e63-9a002090cf28",
   "metadata": {},
   "outputs": [
    {
     "name": "stdout",
     "output_type": "stream",
     "text": [
      "Hello World\n",
      "Substring until: Hel\n",
      "Substring til end: lo World\n",
      "Substring: llo W\n",
      "Substring at end: orld\n"
     ]
    }
   ],
   "source": [
    "s = \"Hello World\"\n",
    "\n",
    "print(s)\n",
    "print(\"Substring until:\", s[:3])\n",
    "print(\"Substring til end:\", s[3:])\n",
    "print(\"Substring:\", s[2:7])\n",
    "print(\"Substring at end:\", s[-4:])"
   ]
  },
  {
   "cell_type": "code",
   "execution_count": 9,
   "id": "bb573358-8849-4e40-b42c-df57959b193d",
   "metadata": {},
   "outputs": [
    {
     "data": {
      "text/plain": [
       "'Hello World\\nSecond Line\\nThird Line'"
      ]
     },
     "execution_count": 9,
     "metadata": {},
     "output_type": "execute_result"
    }
   ],
   "source": [
    "multiline_s = \"\"\"Hello World\n",
    "Second Line\n",
    "Third Line\"\"\"\n",
    "\n",
    "multiline_s"
   ]
  },
  {
   "cell_type": "code",
   "execution_count": 15,
   "id": "00defb9a-f9ba-4e21-8c34-e17934bf1cd4",
   "metadata": {},
   "outputs": [
    {
     "data": {
      "text/plain": [
       "'Bob is 42 years old'"
      ]
     },
     "execution_count": 15,
     "metadata": {},
     "output_type": "execute_result"
    }
   ],
   "source": [
    "# Format strings with string interpolation\n",
    "age = 42\n",
    "about_bob = f\"Bob is {age} years old\"\n",
    "about_bob"
   ]
  },
  {
   "cell_type": "code",
   "execution_count": 20,
   "id": "622b667e-4470-49be-a5df-9d9f5f666c3e",
   "metadata": {},
   "outputs": [
    {
     "data": {
      "text/plain": [
       "'You have $100.44 in your account.'"
      ]
     },
     "execution_count": 20,
     "metadata": {},
     "output_type": "execute_result"
    }
   ],
   "source": [
    "# Custom formatting of floats\n",
    "balance = 100.43742\n",
    "statement = f\"You have ${balance:.2f} in your account.\"\n",
    "statement"
   ]
  },
  {
   "cell_type": "code",
   "execution_count": null,
   "id": "1cbc27aa-4b94-44cc-b241-3261317a7296",
   "metadata": {},
   "outputs": [],
   "source": []
  }
 ],
 "metadata": {
  "kernelspec": {
   "display_name": "Python 3 (ipykernel)",
   "language": "python",
   "name": "python3"
  },
  "language_info": {
   "codemirror_mode": {
    "name": "ipython",
    "version": 3
   },
   "file_extension": ".py",
   "mimetype": "text/x-python",
   "name": "python",
   "nbconvert_exporter": "python",
   "pygments_lexer": "ipython3",
   "version": "3.13.1"
  }
 },
 "nbformat": 4,
 "nbformat_minor": 5
}
