{
 "cells": [
  {
   "cell_type": "markdown",
   "id": "f5155791-6dcb-4cb9-a1c1-e09e211c150c",
   "metadata": {},
   "source": [
    "# Python Lists and Arrays\n",
    "\n",
    "## References\n",
    "- [W3 Schools Python Lists](https://www.w3schools.com/python/python_lists.asp)\n",
    "- [W3 Schools Python Arrays](https://www.w3schools.com/python/python_arrays.asp)"
   ]
  },
  {
   "cell_type": "code",
   "execution_count": 29,
   "id": "4dfe3c69-570a-4023-bb63-6927eb07be9a",
   "metadata": {},
   "outputs": [],
   "source": [
    "my_list = [1,10,-3,6,2]"
   ]
  },
  {
   "cell_type": "code",
   "execution_count": 30,
   "id": "3145c6e4-50c9-4cfa-a86a-63044220b2ec",
   "metadata": {},
   "outputs": [
    {
     "name": "stdout",
     "output_type": "stream",
     "text": [
      "0 : 1\n",
      "1 : 10\n",
      "2 : -3\n",
      "3 : 6\n",
      "4 : 2\n"
     ]
    }
   ],
   "source": [
    "# Print index of each item in my_list and its value. \n",
    "for index in range(len(x)):\n",
    "    print(index, \":\", my_list[index])"
   ]
  },
  {
   "cell_type": "code",
   "execution_count": 31,
   "id": "43600509-86ee-4ce4-9bee-c9c4342f6c68",
   "metadata": {},
   "outputs": [
    {
     "name": "stdout",
     "output_type": "stream",
     "text": [
      "1\n",
      "10\n",
      "-3\n",
      "6\n",
      "2\n"
     ]
    }
   ],
   "source": [
    "# Print each item in my_list\n",
    "for item in my_list:\n",
    "    print(item)"
   ]
  },
  {
   "cell_type": "code",
   "execution_count": 32,
   "id": "da6c68ed-92cc-4dc7-b35b-d7debe8ed1a2",
   "metadata": {},
   "outputs": [
    {
     "name": "stdout",
     "output_type": "stream",
     "text": [
      "[-3, 1, 2, 6, 10]\n"
     ]
    }
   ],
   "source": [
    "# Sort the list in-place.\n",
    "my_list.sort()\n",
    "print(my_list)"
   ]
  },
  {
   "cell_type": "code",
   "execution_count": null,
   "id": "c4bc39f2-789b-40c6-9de6-64c588c7bc3b",
   "metadata": {},
   "outputs": [],
   "source": []
  }
 ],
 "metadata": {
  "kernelspec": {
   "display_name": "Python 3 (ipykernel)",
   "language": "python",
   "name": "python3"
  },
  "language_info": {
   "codemirror_mode": {
    "name": "ipython",
    "version": 3
   },
   "file_extension": ".py",
   "mimetype": "text/x-python",
   "name": "python",
   "nbconvert_exporter": "python",
   "pygments_lexer": "ipython3",
   "version": "3.13.1"
  }
 },
 "nbformat": 4,
 "nbformat_minor": 5
}
