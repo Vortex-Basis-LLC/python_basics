{
 "cells": [
  {
   "cell_type": "markdown",
   "id": "8841a069-2a2c-4b05-89ab-28535ea14c94",
   "metadata": {},
   "source": [
    "# dotenv\n",
    "\n",
    "Add a file called \".env\" to the root folder of this git repo (parent folder of _intro) and add a line that says:\n",
    "\n",
    "MY_TEST_ENV_VAR=hello world\n",
    "\n",
    "You will then see how to access the values from your \".env\" file below."
   ]
  },
  {
   "cell_type": "code",
   "execution_count": 3,
   "id": "0eefcac6-84d0-4850-ba74-9f526af9c773",
   "metadata": {},
   "outputs": [
    {
     "data": {
      "text/plain": [
       "True"
      ]
     },
     "execution_count": 3,
     "metadata": {},
     "output_type": "execute_result"
    }
   ],
   "source": [
    "import os\n",
    "from dotenv import load_dotenv\n",
    "\n",
    "load_dotenv(override=True)"
   ]
  },
  {
   "cell_type": "code",
   "execution_count": 4,
   "id": "97c8fc5c-1808-4e0c-9786-858c82e23fe2",
   "metadata": {},
   "outputs": [
    {
     "data": {
      "text/plain": [
       "'hello world'"
      ]
     },
     "execution_count": 4,
     "metadata": {},
     "output_type": "execute_result"
    }
   ],
   "source": [
    "os.getenv('MY_TEST_ENV_VAR')"
   ]
  },
  {
   "cell_type": "code",
   "execution_count": null,
   "id": "d0fcd3c1-c3f1-4a54-96aa-02675190eccb",
   "metadata": {},
   "outputs": [],
   "source": []
  }
 ],
 "metadata": {
  "kernelspec": {
   "display_name": "Python 3 (ipykernel)",
   "language": "python",
   "name": "python3"
  },
  "language_info": {
   "codemirror_mode": {
    "name": "ipython",
    "version": 3
   },
   "file_extension": ".py",
   "mimetype": "text/x-python",
   "name": "python",
   "nbconvert_exporter": "python",
   "pygments_lexer": "ipython3",
   "version": "3.13.1"
  }
 },
 "nbformat": 4,
 "nbformat_minor": 5
}
