{
 "cells": [
  {
   "cell_type": "code",
   "execution_count": 10,
   "id": "d019c9a1-92cb-492f-969b-e0900f5dff55",
   "metadata": {},
   "outputs": [],
   "source": [
    "import gradio as gr\n",
    "from PIL import Image"
   ]
  },
  {
   "cell_type": "code",
   "execution_count": null,
   "id": "2e352918-15ee-4165-8f78-3d3d3d03cea6",
   "metadata": {},
   "outputs": [],
   "source": [
    "# Shrink an image to 1/4 of its original size.\n",
    "\n",
    "def image_shrink(img: Image):\n",
    "    new_size = (int(img.size[0] * 0.25), int(img.size[1] * 0.25))\n",
    "    new_img = img.resize(new_size, resample = Image.BILINEAR)\n",
    "    return new_img\n",
    "\n",
    "gr_iface = gr.Interface(\n",
    "    fn=image_shrink, \n",
    "    inputs=gr.Image(type=\"pil\"), \n",
    "    outputs=gr.Image(),\n",
    "    flagging_mode=\"never\"\n",
    ")\n",
    "    \n",
    "gr_iface.launch()"
   ]
  },
  {
   "cell_type": "code",
   "execution_count": null,
   "id": "a003a36c-794a-413b-bd92-22864eb7930e",
   "metadata": {},
   "outputs": [],
   "source": []
  }
 ],
 "metadata": {
  "kernelspec": {
   "display_name": "Python 3 (ipykernel)",
   "language": "python",
   "name": "python3"
  },
  "language_info": {
   "codemirror_mode": {
    "name": "ipython",
    "version": 3
   },
   "file_extension": ".py",
   "mimetype": "text/x-python",
   "name": "python",
   "nbconvert_exporter": "python",
   "pygments_lexer": "ipython3",
   "version": "3.13.1"
  }
 },
 "nbformat": 4,
 "nbformat_minor": 5
}
