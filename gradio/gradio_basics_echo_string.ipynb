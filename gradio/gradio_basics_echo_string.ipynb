{
 "cells": [
  {
   "cell_type": "code",
   "execution_count": null,
   "id": "dd6a00c5-07f2-4a69-834a-8950b34f266f",
   "metadata": {},
   "outputs": [],
   "source": [
    "import gradio as gr\n",
    "\n",
    "def echo(echo_str, count):\n",
    "    result = \"\"\n",
    "    for i in range(count):\n",
    "        result += (\" \" if (len(result) > 0) else \"\") + echo_str\n",
    "    return result\n",
    "\n",
    "gr_iface = gr.Interface(\n",
    "    fn=echo, \n",
    "    inputs=[\"textbox\",\"slider\"], \n",
    "    outputs=\"textbox\",\n",
    "    flagging_mode=\"never\")\n",
    "\n",
    "gr_iface.launch()\n",
    "# Use the following to bind to public IPs to make this available on your local network.\n",
    "# gr_iface.launch(server_name=\"0.0.0.0\")"
   ]
  },
  {
   "cell_type": "code",
   "execution_count": null,
   "id": "71529fe3-1ce6-4fd3-b457-73e9ec0d6e1d",
   "metadata": {},
   "outputs": [],
   "source": []
  }
 ],
 "metadata": {
  "kernelspec": {
   "display_name": "Python 3 (ipykernel)",
   "language": "python",
   "name": "python3"
  },
  "language_info": {
   "codemirror_mode": {
    "name": "ipython",
    "version": 3
   },
   "file_extension": ".py",
   "mimetype": "text/x-python",
   "name": "python",
   "nbconvert_exporter": "python",
   "pygments_lexer": "ipython3",
   "version": "3.13.1"
  }
 },
 "nbformat": 4,
 "nbformat_minor": 5
}
