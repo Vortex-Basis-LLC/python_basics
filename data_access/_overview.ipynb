{
 "cells": [
  {
   "cell_type": "markdown",
   "id": "8aadd82a-8136-4405-82e8-8195d27a1299",
   "metadata": {},
   "source": [
    "# Data Access\n",
    "\n",
    "## HTTP/HTML\n",
    "\n",
    "- Download over HTTP with:\n",
    "  - requests\n",
    " \n",
    "- Parse HTML with:\n",
    "  - BeautifulSoup\n",
    "\n",
    "## RSS\n",
    "\n",
    "- feedparser\n",
    "\n",
    "## SQL\n",
    "\n",
    "### PostgreSQL\n",
    "- Psycopg 3\n",
    "  - [Project Page](https://www.psycopg.org/)\n",
    "  - [Docs](https://www.psycopg.org/psycopg3/docs/)\n",
    "  - [Async DB Access and Code Conversion](https://www.psycopg.org/articles/2024/09/23/async-to-sync/)\n",
    "  - License: Lesser GPL v3\n",
    "  - Python DB API 2.0 compliant\n",
    "\n",
    "## Valkey\n",
    "- Use redis client\n",
    "  - [Use redis client with Valkey](https://www.stackhero.io/en/services/Valkey/documentations/Using-with-Python)\n",
    "- Run valkey with docker\n",
    "  - [Valkey with docker](https://hub.docker.com/r/valkey/valkey/)"
   ]
  },
  {
   "cell_type": "code",
   "execution_count": null,
   "id": "99e29ca5-3537-4220-bd9d-8a74f0d56a73",
   "metadata": {},
   "outputs": [],
   "source": []
  }
 ],
 "metadata": {
  "kernelspec": {
   "display_name": "Python 3 (ipykernel)",
   "language": "python",
   "name": "python3"
  },
  "language_info": {
   "codemirror_mode": {
    "name": "ipython",
    "version": 3
   },
   "file_extension": ".py",
   "mimetype": "text/x-python",
   "name": "python",
   "nbconvert_exporter": "python",
   "pygments_lexer": "ipython3",
   "version": "3.13.1"
  }
 },
 "nbformat": 4,
 "nbformat_minor": 5
}
