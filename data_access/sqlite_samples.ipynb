{
 "cells": [
  {
   "cell_type": "markdown",
   "metadata": {},
   "source": [
    "# Sqlite 3"
   ]
  },
  {
   "cell_type": "code",
   "execution_count": 2,
   "metadata": {},
   "outputs": [],
   "source": [
    "import sqlite3"
   ]
  },
  {
   "cell_type": "code",
   "execution_count": null,
   "metadata": {},
   "outputs": [],
   "source": [
    "# Open or create database at a given path.\n",
    "db = sqlite3.connect(\"sqlite_data/sample.db\")"
   ]
  },
  {
   "cell_type": "code",
   "execution_count": 12,
   "metadata": {},
   "outputs": [],
   "source": [
    "# Need a cursor to execute commands.\n",
    "cur = db.cursor()"
   ]
  },
  {
   "cell_type": "code",
   "execution_count": null,
   "metadata": {},
   "outputs": [],
   "source": [
    "# Add a few of tables.\n",
    "cur.execute(\n",
    "\t\"CREATE TABLE IF NOT EXISTS item_type(\"\n",
    "\t\"\titem_type_id INTEGER PRIMARY KEY,\"\n",
    "\t\"\titem_name TEXT NOT NULL,\"\n",
    "\t\"\titem_price REAL NOT NULL\"\n",
    "\t\");\"\n",
    "\t)\n",
    "\n",
    "cur.execute(\n",
    "\t\"CREATE TABLE IF NOT EXISTS item_list(\"\n",
    "\t\"\titem_list_id INTEGER PRIMARY KEY,\"\n",
    "\t\"\titem_list_name TEXT NOT NULL\"\n",
    "\t\");\"\n",
    "\t)\n",
    "\n",
    "cur.execute(\n",
    "\t\"CREATE TABLE IF NOT EXISTS item_list_membership(\"\n",
    "\t\"\titem_list_id INTEGER,\"\n",
    "\t\"\titem_type_id INTEGER,\"\n",
    "\t\"\tquantity INTEGER,\"\n",
    "\t\"\tPRIMARY KEY (item_list_id, item_type_id)\"\n",
    "\t\");\"\n",
    "\t)"
   ]
  },
  {
   "cell_type": "code",
   "execution_count": null,
   "metadata": {},
   "outputs": [],
   "source": [
    "# View list of tables in the database.\n",
    "\n",
    "result = cur.execute(\"SELECT name FROM sqlite_master\")\n",
    "for table_name in result.fetchall():\n",
    "\tprint(type(table_name), table_name)"
   ]
  },
  {
   "cell_type": "code",
   "execution_count": null,
   "metadata": {},
   "outputs": [],
   "source": [
    "new_items = [\n",
    "\t(\"Apple\", 1.00),\n",
    "\t(\"Orange\", 1.25),\n",
    "\t(\"Pineapple\", 4.75)\n",
    "]\n",
    "\n",
    "cur.executemany(\"INSERT INTO item_type (item_name, item_price) VALUES (?, ?)\", new_items)"
   ]
  },
  {
   "cell_type": "code",
   "execution_count": 21,
   "metadata": {},
   "outputs": [],
   "source": [
    "# View all item types."
   ]
  },
  {
   "cell_type": "code",
   "execution_count": null,
   "metadata": {},
   "outputs": [],
   "source": [
    "result = cur.execute(\"SELECT item_type_id, item_name, item_price FROM item_type\")\n",
    "for item_type in result.fetchall():\n",
    "\tprint(type(item_type), item_type)"
   ]
  },
  {
   "cell_type": "code",
   "execution_count": 25,
   "metadata": {},
   "outputs": [],
   "source": [
    "# Create a couple of lists.\n",
    "new_item_lists = [\n",
    "\t(\"Grocery List\",),\n",
    "\t(\"Wish List\",)\n",
    "]\n",
    "\n",
    "cur.executemany(\"INSERT INTO item_list (item_list_name) VALUES (?)\", new_item_lists)"
   ]
  },
  {
   "cell_type": "code",
   "execution_count": null,
   "metadata": {},
   "outputs": [],
   "source": [
    "# Use dicts instead of sequences for adding some item lists.\n",
    "new_item_lists_2 = [\n",
    "\t{ \"list_name\": \"Backup List\" },\n",
    "\t{ \"list_name\": \"Another List\" }\n",
    "]\n",
    "\n",
    "cur.executemany(\"INSERT INTO item_list (item_list_name) VALUES (:list_name)\", new_item_lists_2)"
   ]
  },
  {
   "cell_type": "code",
   "execution_count": null,
   "metadata": {},
   "outputs": [],
   "source": [
    "result = cur.execute(\"SELECT item_list_id, item_list_name FROM item_list\")\n",
    "item_list = result.fetchone()\n",
    "while item_list is not None:\n",
    "\tprint(type(item_list), item_list)\n",
    "\titem_list = result.fetchone()"
   ]
  },
  {
   "cell_type": "code",
   "execution_count": null,
   "metadata": {},
   "outputs": [],
   "source": []
  }
 ],
 "metadata": {
  "kernelspec": {
   "display_name": "Python 3 (ipykernel)",
   "language": "python",
   "name": "python3"
  },
  "language_info": {
   "codemirror_mode": {
    "name": "ipython",
    "version": 3
   },
   "file_extension": ".py",
   "mimetype": "text/x-python",
   "name": "python",
   "nbconvert_exporter": "python",
   "pygments_lexer": "ipython3",
   "version": "3.13.1"
  }
 },
 "nbformat": 4,
 "nbformat_minor": 4
}
