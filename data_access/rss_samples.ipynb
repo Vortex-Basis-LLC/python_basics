{
 "cells": [
  {
   "cell_type": "code",
   "execution_count": 1,
   "id": "2c5593f6-7860-433a-a86f-c412aeeae487",
   "metadata": {},
   "outputs": [],
   "source": [
    "import feedparser"
   ]
  },
  {
   "cell_type": "code",
   "execution_count": null,
   "id": "f076c971-809c-4cfb-9352-5eaa6ae1cd87",
   "metadata": {},
   "outputs": [],
   "source": [
    "feed = feedparser.parse(\"https://sports.yahoo.com/nba/rss.xml\")\n",
    "for entry in feed.entries:\n",
    "    print(entry.title)"
   ]
  },
  {
   "cell_type": "code",
   "execution_count": null,
   "id": "6e4ce36e-3725-4233-86f1-d4b9652e5dad",
   "metadata": {},
   "outputs": [],
   "source": []
  }
 ],
 "metadata": {
  "kernelspec": {
   "display_name": "Python 3 (ipykernel)",
   "language": "python",
   "name": "python3"
  },
  "language_info": {
   "codemirror_mode": {
    "name": "ipython",
    "version": 3
   },
   "file_extension": ".py",
   "mimetype": "text/x-python",
   "name": "python",
   "nbconvert_exporter": "python",
   "pygments_lexer": "ipython3",
   "version": "3.13.1"
  }
 },
 "nbformat": 4,
 "nbformat_minor": 5
}
