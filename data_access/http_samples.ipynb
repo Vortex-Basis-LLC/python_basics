{
 "cells": [
  {
   "cell_type": "code",
   "execution_count": 1,
   "id": "76fe1e6b-e909-417c-addd-b75f66bd3840",
   "metadata": {},
   "outputs": [],
   "source": [
    "import requests\n",
    "\n",
    "user_agent = \"Mozilla/5.0 (operating system information) AppleWebKit/537.36 (KHTML, like Gecko) Chrome/version number Safari/537.36\"\n",
    "\n",
    "# This will ret\n",
    "def get_web_text(url: str):\n",
    "    request_headers = {\n",
    "        \"User-Agent\": user_agent\n",
    "    }\n",
    "    response = requests.get(url, headers=request_headers)\n",
    "    return response.text\n",
    "    "
   ]
  },
  {
   "cell_type": "code",
   "execution_count": 2,
   "id": "576dee72-0faf-43ae-a5af-4be40209f8bb",
   "metadata": {},
   "outputs": [],
   "source": [
    "web_page_html = get_web_text(\"https://sports.yahoo.com/nba\")"
   ]
  },
  {
   "cell_type": "code",
   "execution_count": null,
   "id": "f8e78dde-32b6-4ca6-b45b-f2c9ec22086b",
   "metadata": {},
   "outputs": [],
   "source": [
    "# Use BeautifulSoup to extract text.\n",
    "\n",
    "from bs4 import BeautifulSoup\n",
    "\n",
    "soup = BeautifulSoup(web_page_html, \"lxml\")\n",
    "\n",
    "title = soup.title.string if soup.title else \"NO TITLE\"\n",
    "for discard in soup.body(\"script\", \"style\", \"input\", \"img\"):\n",
    "    discard.decompose()\n",
    "\n",
    "page_text = soup.body.get_text(separator=\"\\n\", strip=True)\n",
    "\n",
    "print(\"TITLE: \", title)\n",
    "print(page_text)"
   ]
  },
  {
   "cell_type": "code",
   "execution_count": null,
   "id": "18263fc8-ce3e-47e6-9c7d-1ac841dbc109",
   "metadata": {},
   "outputs": [],
   "source": []
  }
 ],
 "metadata": {
  "kernelspec": {
   "display_name": "Python 3 (ipykernel)",
   "language": "python",
   "name": "python3"
  },
  "language_info": {
   "codemirror_mode": {
    "name": "ipython",
    "version": 3
   },
   "file_extension": ".py",
   "mimetype": "text/x-python",
   "name": "python",
   "nbconvert_exporter": "python",
   "pygments_lexer": "ipython3",
   "version": "3.13.1"
  }
 },
 "nbformat": 4,
 "nbformat_minor": 5
}
